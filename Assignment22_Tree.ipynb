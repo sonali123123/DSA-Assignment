{
  "nbformat": 4,
  "nbformat_minor": 0,
  "metadata": {
    "colab": {
      "provenance": []
    },
    "kernelspec": {
      "name": "python3",
      "display_name": "Python 3"
    },
    "language_info": {
      "name": "python"
    }
  },
  "cells": [
    {
      "cell_type": "code",
      "execution_count": 1,
      "metadata": {
        "colab": {
          "base_uri": "https://localhost:8080/"
        },
        "id": "US4CGzgGbeJS",
        "outputId": "81dbaade-8dcc-4c41-90cf-674c09ef1d93"
      },
      "outputs": [
        {
          "output_type": "stream",
          "name": "stdout",
          "text": [
            "Doubly Linked List:\n",
            "5 \n"
          ]
        }
      ],
      "source": [
        "## Ans1\n",
        "\n",
        "class Node:\n",
        "    def __init__(self, data):\n",
        "        self.data = data\n",
        "        self.left = None\n",
        "        self.right = None\n",
        "\n",
        "def binary_tree_to_dll(root):\n",
        "    if root is None:\n",
        "        return None\n",
        "\n",
        "    # Convert the left subtree and get the tail node of the DLL\n",
        "    if root.left:\n",
        "        left_tail = binary_tree_to_dll(root.left)\n",
        "        left_tail.right = root\n",
        "        root.left = left_tail\n",
        "    else:\n",
        "        left_tail = root\n",
        "\n",
        "    # Convert the right subtree and get the head node of the DLL\n",
        "    if root.right:\n",
        "        right_head = binary_tree_to_dll(root.right)\n",
        "        right_head.left = root\n",
        "        root.right = right_head\n",
        "    else:\n",
        "        right_head = root\n",
        "\n",
        "    return right_head\n",
        "\n",
        "def print_dll(head):\n",
        "    curr = head\n",
        "    while curr:\n",
        "        print(curr.data, end=\" \")\n",
        "        curr = curr.right\n",
        "    print()\n",
        "\n",
        "# Sample usage\n",
        "# Create a binary tree\n",
        "root = Node(4)\n",
        "root.left = Node(2)\n",
        "root.right = Node(5)\n",
        "root.left.left = Node(1)\n",
        "root.left.right = Node(3)\n",
        "\n",
        "# Convert binary tree to DLL\n",
        "head = binary_tree_to_dll(root)\n",
        "\n",
        "# Print the DLL\n",
        "print(\"Doubly Linked List:\")\n",
        "print_dll(head)\n"
      ]
    },
    {
      "cell_type": "code",
      "source": [
        "## Ans2\n",
        "\n",
        "class Node:\n",
        "    def __init__(self, data):\n",
        "        self.data = data\n",
        "        self.left = None\n",
        "        self.right = None\n",
        "\n",
        "def flip_binary_tree(root):\n",
        "    if root is None or (root.left is None and root.right is None):\n",
        "        return root\n",
        "\n",
        "    flipped_root = flip_binary_tree(root.left)\n",
        "\n",
        "    root.left.left = root.right\n",
        "    root.left.right = root\n",
        "    root.left = root.right = None\n",
        "\n",
        "    return flipped_root\n",
        "\n",
        "def inorder_traversal(root):\n",
        "    if root is None:\n",
        "        return\n",
        "\n",
        "    inorder_traversal(root.left)\n",
        "    print(root.data, end=\" \")\n",
        "    inorder_traversal(root.right)\n",
        "\n",
        "# Sample usage\n",
        "# Create a binary tree\n",
        "root = Node(1)\n",
        "root.left = Node(2)\n",
        "root.right = Node(3)\n",
        "root.left.left = Node(4)\n",
        "root.left.right = Node(5)\n",
        "\n",
        "print(\"Original Binary Tree (Inorder Traversal):\")\n",
        "inorder_traversal(root)\n",
        "\n",
        "# Flip the binary tree\n",
        "flipped_root = flip_binary_tree(root)\n",
        "\n",
        "print(\"\\nFlipped Binary Tree (Inorder Traversal):\")\n",
        "inorder_traversal(flipped_root)\n"
      ],
      "metadata": {
        "colab": {
          "base_uri": "https://localhost:8080/"
        },
        "id": "KPeh0UQwcNEG",
        "outputId": "7ff19d76-5813-42d5-9887-cb8d4b29a49f"
      },
      "execution_count": 2,
      "outputs": [
        {
          "output_type": "stream",
          "name": "stdout",
          "text": [
            "Original Binary Tree (Inorder Traversal):\n",
            "4 2 5 1 3 \n",
            "Flipped Binary Tree (Inorder Traversal):\n",
            "5 4 3 2 1 "
          ]
        }
      ]
    },
    {
      "cell_type": "code",
      "source": [
        "## Ans3\n",
        "\n",
        "class Node:\n",
        "    def __init__(self, data):\n",
        "        self.data = data\n",
        "        self.left = None\n",
        "        self.right = None\n",
        "\n",
        "def root_to_leaf_paths(root):\n",
        "    if root is None:\n",
        "        return\n",
        "\n",
        "    # Stack to store the nodes\n",
        "    stack = [(root, str(root.data))]\n",
        "\n",
        "    while stack:\n",
        "        node, path = stack.pop()\n",
        "\n",
        "        if node.left is None and node.right is None:\n",
        "            # Reached a leaf node, print the path\n",
        "            print(path)\n",
        "        else:\n",
        "            if node.right:\n",
        "                stack.append((node.right, path + \"->\" + str(node.right.data)))\n",
        "            if node.left:\n",
        "                stack.append((node.left, path + \"->\" + str(node.left.data)))\n",
        "\n",
        "# Create a binary tree\n",
        "root = Node(6)\n",
        "root.left = Node(3)\n",
        "root.right = Node(5)\n",
        "root.left.left = Node(2)\n",
        "root.left.right = Node(5)\n",
        "root.right.right = Node(4)\n",
        "root.left.right.left = Node(7)\n",
        "root.left.right.right = Node(4)\n",
        "\n",
        "print(\"Root-to-leaf paths:\")\n",
        "root_to_leaf_paths(root)\n"
      ],
      "metadata": {
        "colab": {
          "base_uri": "https://localhost:8080/"
        },
        "id": "hHDqQcsudaH7",
        "outputId": "f328118f-7e10-4bfd-ad33-c1cf8bfcc8fb"
      },
      "execution_count": 3,
      "outputs": [
        {
          "output_type": "stream",
          "name": "stdout",
          "text": [
            "Root-to-leaf paths:\n",
            "6->3->2\n",
            "6->3->5->7\n",
            "6->3->5->4\n",
            "6->5->4\n"
          ]
        }
      ]
    },
    {
      "cell_type": "code",
      "source": [
        "## Ans4\n",
        "\n",
        "def is_same_tree(inorder, preorder, postorder):\n",
        "    if not inorder:\n",
        "        return not preorder and not postorder\n",
        "\n",
        "    if preorder[0] != postorder[-1]:\n",
        "        return False\n",
        "\n",
        "    root = preorder[0]\n",
        "    root_index = inorder.index(root)\n",
        "\n",
        "    left_inorder = inorder[:root_index]\n",
        "    right_inorder = inorder[root_index + 1:]\n",
        "\n",
        "    left_preorder = preorder[1:root_index + 1]\n",
        "    right_preorder = preorder[root_index + 1:]\n",
        "\n",
        "    left_postorder = postorder[:root_index]\n",
        "    right_postorder = postorder[root_index:-1]\n",
        "\n",
        "    return is_same_tree(left_inorder, left_preorder, left_postorder) and \\\n",
        "           is_same_tree(right_inorder, right_preorder, right_postorder)\n",
        "\n",
        "# Example 1\n",
        "inorder1 = [4, 2, 5, 1, 3]\n",
        "preorder1 = [1, 2, 4, 5, 3]\n",
        "postorder1 = [4, 5, 2, 3, 1]\n",
        "print(\"Example 1:\", is_same_tree(inorder1, preorder1, postorder1))  # Output: True\n",
        "\n",
        "# Example 2\n",
        "inorder2 = [4, 2, 5, 1, 3]\n",
        "preorder2 = [1, 5, 4, 2, 3]\n",
        "postorder2 = [4, 1, 2, 3, 5]\n",
        "print(\"Example 2:\", is_same_tree(inorder2, preorder2, postorder2))  # Output: False\n"
      ],
      "metadata": {
        "colab": {
          "base_uri": "https://localhost:8080/"
        },
        "id": "n7m3TCNiehnB",
        "outputId": "ad64d89f-ceca-4eaa-9087-4a7d6e11b15a"
      },
      "execution_count": 4,
      "outputs": [
        {
          "output_type": "stream",
          "name": "stdout",
          "text": [
            "Example 1: True\n",
            "Example 2: False\n"
          ]
        }
      ]
    }
  ]
}