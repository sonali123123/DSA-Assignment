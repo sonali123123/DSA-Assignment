{
  "nbformat": 4,
  "nbformat_minor": 0,
  "metadata": {
    "colab": {
      "provenance": []
    },
    "kernelspec": {
      "name": "python3",
      "display_name": "Python 3"
    },
    "language_info": {
      "name": "python"
    }
  },
  "cells": [
    {
      "cell_type": "code",
      "execution_count": 1,
      "metadata": {
        "colab": {
          "base_uri": "https://localhost:8080/"
        },
        "id": "yry_r8cOe_Fp",
        "outputId": "b2701b41-09f7-4df3-e8e9-178b6f556f2d"
      },
      "outputs": [
        {
          "output_type": "stream",
          "name": "stdout",
          "text": [
            "Example 1: 1\n",
            "Example 2: 2\n"
          ]
        }
      ],
      "source": [
        "##Ans1\n",
        "\n",
        "def calculate_tree_depth(preorder):\n",
        "    depth = 0\n",
        "    max_depth = 0\n",
        "\n",
        "    for char in preorder:\n",
        "        if char == 'n':\n",
        "            depth += 1\n",
        "        elif char == 'l':\n",
        "            max_depth = max(max_depth, depth)\n",
        "            depth -= 1\n",
        "\n",
        "    return max_depth\n",
        "\n",
        "# Example 1\n",
        "preorder1 = 'nlnll'\n",
        "print(\"Example 1:\", calculate_tree_depth(preorder1))  # Output: 2\n",
        "\n",
        "# Example 2\n",
        "preorder2 = 'nlnnlll'\n",
        "print(\"Example 2:\", calculate_tree_depth(preorder2))  # Output: 3\n"
      ]
    },
    {
      "cell_type": "code",
      "source": [
        "## Ans2\n",
        "\n",
        "from collections import deque\n",
        "\n",
        "class Node:\n",
        "    def __init__(self, data):\n",
        "        self.data = data\n",
        "        self.left = None\n",
        "        self.right = None\n",
        "\n",
        "def print_left_view(root):\n",
        "    if root is None:\n",
        "        return\n",
        "\n",
        "    queue = deque()\n",
        "    queue.append(root)\n",
        "\n",
        "    while queue:\n",
        "        nodeCount = len(queue)\n",
        "        level_nodes = []\n",
        "\n",
        "        for i in range(nodeCount):\n",
        "            node = queue.popleft()\n",
        "\n",
        "            if i == 0:\n",
        "                # First node in the current level (leftmost node)\n",
        "                print(node.data, end=\" \")\n",
        "\n",
        "            if node.left:\n",
        "                queue.append(node.left)\n",
        "            if node.right:\n",
        "                queue.append(node.right)\n",
        "\n",
        "# Create the binary tree\n",
        "root = Node(4)\n",
        "root.left = Node(5)\n",
        "root.right = Node(2)\n",
        "root.right.left = Node(3)\n",
        "root.right.right = Node(1)\n",
        "root.right.left.left = Node(6)\n",
        "root.right.left.right = Node(7)\n",
        "\n",
        "print(\"Left View of Binary Tree:\")\n",
        "print_left_view(root)\n"
      ],
      "metadata": {
        "colab": {
          "base_uri": "https://localhost:8080/"
        },
        "id": "nHnBy36bgjcP",
        "outputId": "01303656-116f-4a54-8c78-ff8e2518d0bd"
      },
      "execution_count": 2,
      "outputs": [
        {
          "output_type": "stream",
          "name": "stdout",
          "text": [
            "Left View of Binary Tree:\n",
            "4 5 3 6 "
          ]
        }
      ]
    },
    {
      "cell_type": "code",
      "source": [
        "## Ans3\n",
        "\n",
        "from collections import deque\n",
        "\n",
        "class Node:\n",
        "    def __init__(self, data):\n",
        "        self.data = data\n",
        "        self.left = None\n",
        "        self.right = None\n",
        "\n",
        "def print_left_view(root):\n",
        "    if root is None:\n",
        "        return\n",
        "\n",
        "    queue = deque()\n",
        "    queue.append(root)\n",
        "\n",
        "    while queue:\n",
        "        nodeCount = len(queue)\n",
        "        level_nodes = []\n",
        "\n",
        "        for i in range(nodeCount):\n",
        "            node = queue.popleft()\n",
        "\n",
        "            if i == 0:\n",
        "                # First node in the current level (leftmost node)\n",
        "                print(node.data, end=\" \")\n",
        "\n",
        "            if node.left:\n",
        "                queue.append(node.left)\n",
        "            if node.right:\n",
        "                queue.append(node.right)\n",
        "\n",
        "# Create the binary tree\n",
        "root = Node(4)\n",
        "root.left = Node(5)\n",
        "root.right = Node(2)\n",
        "root.right.left = Node(3)\n",
        "root.right.right = Node(1)\n",
        "root.right.left.left = Node(6)\n",
        "root.right.left.right = Node(7)\n",
        "\n",
        "print(\"Left View of Binary Tree:\")\n",
        "print_left_view(root)\n"
      ],
      "metadata": {
        "colab": {
          "base_uri": "https://localhost:8080/"
        },
        "id": "hLLFjFeqglT5",
        "outputId": "07029f84-b61f-476e-d404-23873831e83b"
      },
      "execution_count": 3,
      "outputs": [
        {
          "output_type": "stream",
          "name": "stdout",
          "text": [
            "Left View of Binary Tree:\n",
            "4 5 3 6 "
          ]
        }
      ]
    },
    {
      "cell_type": "code",
      "source": [
        "## Ans4\n",
        "\n",
        "from collections import deque\n",
        "\n",
        "class Node:\n",
        "    def __init__(self, data):\n",
        "        self.data = data\n",
        "        self.left = None\n",
        "        self.right = None\n",
        "\n",
        "def print_bottom_view(root):\n",
        "    if root is None:\n",
        "        return\n",
        "\n",
        "    queue = deque()\n",
        "    queue.append((root, 0))\n",
        "\n",
        "    bottom_view = {}\n",
        "\n",
        "    while queue:\n",
        "        node, hd = queue.popleft()\n",
        "\n",
        "        bottom_view[hd] = node.data\n",
        "\n",
        "        if node.left:\n",
        "            queue.append((node.left, hd - 1))\n",
        "        if node.right:\n",
        "            queue.append((node.right, hd + 1))\n",
        "\n",
        "    # Print the nodes from the bottom_view dictionary in ascending order of their horizontal distances\n",
        "    for hd in sorted(bottom_view.keys()):\n",
        "        print(bottom_view[hd], end=\" \")\n",
        "\n",
        "# Create the binary tree\n",
        "root = Node(20)\n",
        "root.left = Node(8)\n",
        "root.right = Node(22)\n",
        "root.left.left = Node(5)\n",
        "root.left.right = Node(3)\n",
        "root.right.right = Node(25)\n",
        "root.left.right.left = Node(10)\n",
        "root.left.right.right = Node(14)\n",
        "\n",
        "print(\"Bottom View of Binary Tree:\")\n",
        "print_bottom_view(root)\n",
        "\n"
      ],
      "metadata": {
        "colab": {
          "base_uri": "https://localhost:8080/"
        },
        "id": "NH5erN4ag-_3",
        "outputId": "4742571a-3846-42e8-d9f3-967fc2146a2e"
      },
      "execution_count": 4,
      "outputs": [
        {
          "output_type": "stream",
          "name": "stdout",
          "text": [
            "Bottom View of Binary Tree:\n",
            "5 10 3 14 25 "
          ]
        }
      ]
    },
    {
      "cell_type": "code",
      "source": [],
      "metadata": {
        "id": "HmfdATtDhlW9"
      },
      "execution_count": null,
      "outputs": []
    }
  ]
}