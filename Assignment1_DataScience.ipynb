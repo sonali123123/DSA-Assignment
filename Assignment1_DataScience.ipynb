{
  "nbformat": 4,
  "nbformat_minor": 0,
  "metadata": {
    "colab": {
      "provenance": []
    },
    "kernelspec": {
      "name": "python3",
      "display_name": "Python 3"
    },
    "language_info": {
      "name": "python"
    }
  },
  "cells": [
    {
      "cell_type": "markdown",
      "source": [
        "1. Write a Python program to reverse a string without using any built-in string reversal functions.\n"
      ],
      "metadata": {
        "id": "XUfQuBR7FqLN"
      }
    },
    {
      "cell_type": "code",
      "source": [
        "in_str = \"My name is Sonali Thakur\"\n",
        "print(in_str[::-1])"
      ],
      "metadata": {
        "colab": {
          "base_uri": "https://localhost:8080/"
        },
        "id": "3J3aCxM_Fsdz",
        "outputId": "e87e5bdb-6404-4298-9589-8f720a389397"
      },
      "execution_count": 1,
      "outputs": [
        {
          "output_type": "stream",
          "name": "stdout",
          "text": [
            "rukahT ilanoS si eman yM\n"
          ]
        }
      ]
    },
    {
      "cell_type": "markdown",
      "source": [
        "2. Implement a function to check if a given string is a palindrome."
      ],
      "metadata": {
        "id": "qsiF_WxEF2uv"
      }
    },
    {
      "cell_type": "code",
      "source": [
        "def check_palindrome(in_str):\n",
        "  out_str = in_str[::-1]\n",
        "  if in_str == out_str:\n",
        "    print(in_str,\"is palindrome\")\n",
        "  else:\n",
        "\n",
        "    print(in_str,'is not palindrome')\n",
        "check_palindrome('abba')"
      ],
      "metadata": {
        "colab": {
          "base_uri": "https://localhost:8080/"
        },
        "id": "HJALuILqF1KV",
        "outputId": "8e6025c4-96cd-4552-98f6-becc20950420"
      },
      "execution_count": 4,
      "outputs": [
        {
          "output_type": "stream",
          "name": "stdout",
          "text": [
            "abba is palindrome\n"
          ]
        }
      ]
    },
    {
      "cell_type": "markdown",
      "source": [
        " 3.Write a program to find the largest element in a given list."
      ],
      "metadata": {
        "id": "pDgL1y9MGZIa"
      }
    },
    {
      "cell_type": "code",
      "source": [
        "in_list = [5,98,0,3,4,23,56]\n",
        "for i in in_list:\n",
        "  if i==max(in_list):\n",
        "    print(i)"
      ],
      "metadata": {
        "colab": {
          "base_uri": "https://localhost:8080/"
        },
        "id": "4a1SM63SGObb",
        "outputId": "0ee96370-86c2-4f2c-d8b1-7d81844c8c7e"
      },
      "execution_count": 6,
      "outputs": [
        {
          "output_type": "stream",
          "name": "stdout",
          "text": [
            "98\n"
          ]
        }
      ]
    },
    {
      "cell_type": "markdown",
      "source": [
        "4. Implement a function to count the occurrence of each element in a list."
      ],
      "metadata": {
        "id": "EwXP1CyAG5ht"
      }
    },
    {
      "cell_type": "code",
      "source": [
        "def count_elem(in_list):\n",
        "    d = {}\n",
        "    for i in set(in_list):\n",
        "        d[i] = in_list.count(i)\n",
        "    print(d)\n",
        "\n",
        "count_elem([2, 4, 5, 2, 3])\n"
      ],
      "metadata": {
        "colab": {
          "base_uri": "https://localhost:8080/"
        },
        "id": "7__YYrgcGvqa",
        "outputId": "f54e081d-9bd2-4665-9b86-67a8122937bf"
      },
      "execution_count": 8,
      "outputs": [
        {
          "output_type": "stream",
          "name": "stdout",
          "text": [
            "{2: 2, 3: 1, 4: 1, 5: 1}\n"
          ]
        }
      ]
    },
    {
      "cell_type": "markdown",
      "source": [
        "5. Write a Python program to find the second largest number in a list."
      ],
      "metadata": {
        "id": "Thpp3LtnM5eF"
      }
    },
    {
      "cell_type": "code",
      "source": [
        "in_list = [7,2,0,45,32,78,34,87]\n",
        "print(sorted(in_list)[-2])"
      ],
      "metadata": {
        "colab": {
          "base_uri": "https://localhost:8080/"
        },
        "id": "G3wdGGBwJK-y",
        "outputId": "8c5e41a0-3313-4150-a32c-532e3b6e2ba1"
      },
      "execution_count": 9,
      "outputs": [
        {
          "output_type": "stream",
          "name": "stdout",
          "text": [
            "78\n"
          ]
        }
      ]
    },
    {
      "cell_type": "markdown",
      "source": [
        "6. Implement a function to remove duplicate elements from a list."
      ],
      "metadata": {
        "id": "FFF0Y74CNHmt"
      }
    },
    {
      "cell_type": "code",
      "source": [
        "def remove_dup(in_list):\n",
        "  return list(set(in_list))\n",
        "remove_dup([4,8,3,4,7,9,2,5,4,8])"
      ],
      "metadata": {
        "colab": {
          "base_uri": "https://localhost:8080/"
        },
        "id": "BHN_Qyc0NGEF",
        "outputId": "c1d3bdd5-5327-4212-e5e3-68606e0b8e85"
      },
      "execution_count": 12,
      "outputs": [
        {
          "output_type": "execute_result",
          "data": {
            "text/plain": [
              "[2, 3, 4, 5, 7, 8, 9]"
            ]
          },
          "metadata": {},
          "execution_count": 12
        }
      ]
    },
    {
      "cell_type": "markdown",
      "source": [
        "7. Write a program to calculate the factorial of a given number"
      ],
      "metadata": {
        "id": "EtUZeMOlNc3n"
      }
    },
    {
      "cell_type": "code",
      "source": [
        "def fact_of_num(n):\n",
        "  f=1\n",
        "  for i in range(1,n+1):\n",
        "    f*=i\n",
        "  return f\n",
        "fact_of_num(5)"
      ],
      "metadata": {
        "colab": {
          "base_uri": "https://localhost:8080/"
        },
        "id": "GOL9EsJ7NURs",
        "outputId": "f8a0ace9-0d80-499f-d0bf-00bd4136ec3d"
      },
      "execution_count": 13,
      "outputs": [
        {
          "output_type": "execute_result",
          "data": {
            "text/plain": [
              "120"
            ]
          },
          "metadata": {},
          "execution_count": 13
        }
      ]
    },
    {
      "cell_type": "markdown",
      "source": [
        "8. Implement a function to check if a given number is prime.\n"
      ],
      "metadata": {
        "id": "NrIU7uwmNx85"
      }
    },
    {
      "cell_type": "code",
      "source": [
        "def check_prime(n):\n",
        "    if n <= 1:\n",
        "        print(n, \"is not prime\")\n",
        "    else:\n",
        "        for i in range(2, n):\n",
        "            if n % i == 0:\n",
        "                print(n, \"is not prime\")\n",
        "                break\n",
        "        else:\n",
        "            print(n, \"is prime\")\n",
        "\n",
        "check_prime(10)\n"
      ],
      "metadata": {
        "colab": {
          "base_uri": "https://localhost:8080/"
        },
        "id": "B-ubIRlkNr1u",
        "outputId": "647c54f6-c63f-47f0-d7e7-b588e2067adb"
      },
      "execution_count": 18,
      "outputs": [
        {
          "output_type": "stream",
          "name": "stdout",
          "text": [
            "10 is not prime\n"
          ]
        }
      ]
    },
    {
      "cell_type": "markdown",
      "source": [
        "9. Write a Python program to sort a list of integers in ascending order."
      ],
      "metadata": {
        "id": "HoEn9y58QOQh"
      }
    },
    {
      "cell_type": "code",
      "source": [
        "in_list = [4,8,2,0,6,1]\n",
        "print(sorted(in_list))"
      ],
      "metadata": {
        "colab": {
          "base_uri": "https://localhost:8080/"
        },
        "id": "zJBt2aLMPrse",
        "outputId": "4c2f759e-bed2-4f1d-f328-b2975c0ba50e"
      },
      "execution_count": 19,
      "outputs": [
        {
          "output_type": "stream",
          "name": "stdout",
          "text": [
            "[0, 1, 2, 4, 6, 8]\n"
          ]
        }
      ]
    },
    {
      "cell_type": "markdown",
      "source": [
        "10. Implement a function to find the sum of all numbers in a list."
      ],
      "metadata": {
        "id": "jqcehACNQcda"
      }
    },
    {
      "cell_type": "code",
      "source": [
        "in_list = [0,1,2,3,4,5,6,7,8,9]\n",
        "s = 0\n",
        "for i in in_list:\n",
        "  s+=i\n",
        "print(s)"
      ],
      "metadata": {
        "colab": {
          "base_uri": "https://localhost:8080/"
        },
        "id": "s2xipEGvQYoi",
        "outputId": "72535d0c-7c72-479e-8adb-ad3df325b441"
      },
      "execution_count": 20,
      "outputs": [
        {
          "output_type": "stream",
          "name": "stdout",
          "text": [
            "45\n"
          ]
        }
      ]
    },
    {
      "cell_type": "markdown",
      "source": [
        "11. Write a program to find the common elements between two lists."
      ],
      "metadata": {
        "id": "9M_AxhPZQ3Qb"
      }
    },
    {
      "cell_type": "code",
      "source": [
        "list1 = [1,2,3,4]\n",
        "list2 = [3,4,5,6]\n",
        "\n",
        "common = set(list1).intersection(set(list2))\n",
        "\n",
        "print(list(common))"
      ],
      "metadata": {
        "colab": {
          "base_uri": "https://localhost:8080/"
        },
        "id": "mDDiN4_3Qoro",
        "outputId": "5eb69fb1-a11b-4e40-9564-fa001ba2263a"
      },
      "execution_count": 21,
      "outputs": [
        {
          "output_type": "stream",
          "name": "stdout",
          "text": [
            "[3, 4]\n"
          ]
        }
      ]
    },
    {
      "cell_type": "markdown",
      "source": [
        "12. Implement a function to check if a given string is an anagram of another string."
      ],
      "metadata": {
        "id": "fpg3AdU-RM9j"
      }
    },
    {
      "cell_type": "code",
      "source": [
        "def is_anagram(str1, str2):\n",
        "    str1 = str1.replace(\" \", \"\").lower()\n",
        "    str2 = str2.replace(\" \", \"\").lower()\n",
        "\n",
        "    if len(str1) != len(str2):\n",
        "        return False\n",
        "\n",
        "    count = {}\n",
        "    for char in str1:\n",
        "        if char in count:\n",
        "            count[char] += 1\n",
        "        else:\n",
        "            count[char] = 1\n",
        "\n",
        "    for char in str2:\n",
        "        if char in count:\n",
        "            count[char] -= 1\n",
        "            if count[char] == 0:\n",
        "                del count[char]\n",
        "        else:\n",
        "            return False\n",
        "\n",
        "    return len(count) == 0\n"
      ],
      "metadata": {
        "id": "DP8xMdNURItj"
      },
      "execution_count": 22,
      "outputs": []
    },
    {
      "cell_type": "code",
      "source": [
        "string1 = \"listen\"\n",
        "string2 = \"silent\"\n",
        "result = is_anagram(string1, string2)\n",
        "print(result)\n"
      ],
      "metadata": {
        "colab": {
          "base_uri": "https://localhost:8080/"
        },
        "id": "pGQsuHMNRft_",
        "outputId": "e1f4ffdf-b24b-4a82-942c-d39eb9332382"
      },
      "execution_count": 23,
      "outputs": [
        {
          "output_type": "stream",
          "name": "stdout",
          "text": [
            "True\n"
          ]
        }
      ]
    },
    {
      "cell_type": "markdown",
      "source": [
        "13. Write a Python program to generate all permutations of a given string."
      ],
      "metadata": {
        "id": "54mmX01qRmlI"
      }
    },
    {
      "cell_type": "code",
      "source": [
        "from itertools import permutations\n",
        "\n",
        "def generate_permutations(string):\n",
        "    perms = permutations(string)\n",
        "    for perm in perms:\n",
        "        print(''.join(perm))\n",
        "\n",
        "generate_permutations(\"abc\")\n"
      ],
      "metadata": {
        "colab": {
          "base_uri": "https://localhost:8080/"
        },
        "id": "PpwUdfACRlAZ",
        "outputId": "9aee331e-69e1-4d63-ce79-0fcc0837f5ae"
      },
      "execution_count": 24,
      "outputs": [
        {
          "output_type": "stream",
          "name": "stdout",
          "text": [
            "abc\n",
            "acb\n",
            "bac\n",
            "bca\n",
            "cab\n",
            "cba\n"
          ]
        }
      ]
    },
    {
      "cell_type": "markdown",
      "source": [
        "14. Implement a function to calculate the Fibonacci sequence up to a given number of terms."
      ],
      "metadata": {
        "id": "NS85liD7R2iB"
      }
    },
    {
      "cell_type": "code",
      "source": [
        "def fibonacci_sequence(n):\n",
        "    sequence = []\n",
        "    if n >= 1:\n",
        "        sequence.append(0)\n",
        "    if n >= 2:\n",
        "        sequence.append(1)\n",
        "\n",
        "    for i in range(2, n):\n",
        "        next_num = sequence[i-1] + sequence[i-2]\n",
        "        sequence.append(next_num)\n",
        "\n",
        "    return sequence\n",
        "\n",
        "# Example usage\n",
        "terms = 10\n",
        "fib_seq = fibonacci_sequence(terms)\n",
        "print(fib_seq)\n"
      ],
      "metadata": {
        "colab": {
          "base_uri": "https://localhost:8080/"
        },
        "id": "r7pJpnVGRxi6",
        "outputId": "02559a23-e3d8-4e3b-9239-176d67a5401d"
      },
      "execution_count": 25,
      "outputs": [
        {
          "output_type": "stream",
          "name": "stdout",
          "text": [
            "[0, 1, 1, 2, 3, 5, 8, 13, 21, 34]\n"
          ]
        }
      ]
    },
    {
      "cell_type": "markdown",
      "source": [
        "15. Write a program to find the median of a list of numbers."
      ],
      "metadata": {
        "id": "wFnx3UfpSFhB"
      }
    },
    {
      "cell_type": "code",
      "source": [
        "def find_median(numbers):\n",
        "    sorted_numbers = sorted(numbers)\n",
        "    n = len(sorted_numbers)\n",
        "    middle_index = n // 2\n",
        "\n",
        "    if n % 2 == 0:\n",
        "        median = (sorted_numbers[middle_index - 1] + sorted_numbers[middle_index]) / 2\n",
        "    else:\n",
        "        median = sorted_numbers[middle_index]\n",
        "\n",
        "    return median\n",
        "\n",
        "# Example usage\n",
        "number_list = [4, 2, 9, 7, 5]\n",
        "median = find_median(number_list)\n",
        "print(median)\n"
      ],
      "metadata": {
        "colab": {
          "base_uri": "https://localhost:8080/"
        },
        "id": "FJunByOuSD6T",
        "outputId": "3458cc8f-9475-4b8b-8b80-db0feb81bbd5"
      },
      "execution_count": 26,
      "outputs": [
        {
          "output_type": "stream",
          "name": "stdout",
          "text": [
            "5\n"
          ]
        }
      ]
    },
    {
      "cell_type": "markdown",
      "source": [
        "16. Implement a function to check if a given list is sorted in non-decreasing order."
      ],
      "metadata": {
        "id": "cwtcjCjYSgq1"
      }
    },
    {
      "cell_type": "code",
      "source": [
        "def is_sorted(numbers):\n",
        "    for i in range(len(numbers) - 1):\n",
        "        if numbers[i] > numbers[i + 1]:\n",
        "            return False\n",
        "    return True\n",
        "\n",
        "# Example usage\n",
        "number_list = [1, 2, 3, 4, 5]\n",
        "result = is_sorted(number_list)\n",
        "print(result)\n"
      ],
      "metadata": {
        "colab": {
          "base_uri": "https://localhost:8080/"
        },
        "id": "loV8oDMdSarE",
        "outputId": "cb27b9d9-c6dc-43c3-9b4f-8d2396189755"
      },
      "execution_count": 27,
      "outputs": [
        {
          "output_type": "stream",
          "name": "stdout",
          "text": [
            "True\n"
          ]
        }
      ]
    },
    {
      "cell_type": "markdown",
      "source": [
        "17. Write a Python program to find the intersection of two lists."
      ],
      "metadata": {
        "id": "62vt3FGmSwRp"
      }
    },
    {
      "cell_type": "code",
      "source": [
        "list1 = [1,2,3,4]\n",
        "list2 = [3,4,5,6]\n",
        "\n",
        "common = set(list1).intersection(set(list2))\n",
        "\n",
        "print(list(common))"
      ],
      "metadata": {
        "colab": {
          "base_uri": "https://localhost:8080/"
        },
        "id": "gjwUB3YDSvAN",
        "outputId": "3138938f-a63b-4ff2-fab0-b7382329f6ca"
      },
      "execution_count": 28,
      "outputs": [
        {
          "output_type": "stream",
          "name": "stdout",
          "text": [
            "[3, 4]\n"
          ]
        }
      ]
    },
    {
      "cell_type": "markdown",
      "source": [
        "18. Implement a function to find the maximum subarray sum in a given list."
      ],
      "metadata": {
        "id": "Yx5SFLkWS9TV"
      }
    },
    {
      "cell_type": "code",
      "source": [
        "def max_subarray_sum(numbers):\n",
        "    max_sum = float('-inf')  # Initialize with negative infinity\n",
        "    current_sum = 0\n",
        "\n",
        "    for num in numbers:\n",
        "        current_sum += num\n",
        "        if current_sum > max_sum:\n",
        "            max_sum = current_sum\n",
        "        if current_sum < 0:\n",
        "            current_sum = 0\n",
        "\n",
        "    return max_sum\n",
        "\n",
        "# Example usage\n",
        "number_list = [-2, 1, -3, 4, -1, 2, 1, -5, 4]\n",
        "max_sum = max_subarray_sum(number_list)\n",
        "print(max_sum)\n"
      ],
      "metadata": {
        "colab": {
          "base_uri": "https://localhost:8080/"
        },
        "id": "u52AWj-wS60f",
        "outputId": "915c8a48-d508-4994-e3f1-c9e66533ffe1"
      },
      "execution_count": 29,
      "outputs": [
        {
          "output_type": "stream",
          "name": "stdout",
          "text": [
            "6\n"
          ]
        }
      ]
    },
    {
      "cell_type": "markdown",
      "source": [
        "19. Write a program to remove all vowels from a given string."
      ],
      "metadata": {
        "id": "PYtz8AttTKKg"
      }
    },
    {
      "cell_type": "code",
      "source": [
        "def remove_vowels(string):\n",
        "    vowels = 'aeiouAEIOU'\n",
        "    result = ''\n",
        "    for char in string:\n",
        "        if char not in vowels:\n",
        "            result += char\n",
        "    return result\n",
        "\n",
        "# Example usage\n",
        "input_string = \"Hello, World!\"\n",
        "output_string = remove_vowels(input_string)\n",
        "print(output_string)\n"
      ],
      "metadata": {
        "colab": {
          "base_uri": "https://localhost:8080/"
        },
        "id": "FUHqL1JuTIEJ",
        "outputId": "653e5116-6d57-4fec-dfe3-3c0dda467d96"
      },
      "execution_count": 30,
      "outputs": [
        {
          "output_type": "stream",
          "name": "stdout",
          "text": [
            "Hll, Wrld!\n"
          ]
        }
      ]
    },
    {
      "cell_type": "markdown",
      "source": [
        "20. Implement a function to reverse the order of words in a given sentence."
      ],
      "metadata": {
        "id": "RpcTIgd7TVtU"
      }
    },
    {
      "cell_type": "code",
      "source": [
        "def reverse_words(sentence):\n",
        "    words = sentence.split()\n",
        "    reversed_words = words[::-1]\n",
        "    reversed_sentence = ' '.join(reversed_words)\n",
        "    return reversed_sentence\n",
        "\n",
        "# Example usage\n",
        "input_sentence = \"Hello, world! Welcome to OpenAI.\"\n",
        "output_sentence = reverse_words(input_sentence)\n",
        "print(output_sentence)\n"
      ],
      "metadata": {
        "colab": {
          "base_uri": "https://localhost:8080/"
        },
        "id": "6pNAxC-cTT7E",
        "outputId": "96604bf8-3528-408a-a3cf-ddffd8d2c1f1"
      },
      "execution_count": 31,
      "outputs": [
        {
          "output_type": "stream",
          "name": "stdout",
          "text": [
            "OpenAI. to Welcome world! Hello,\n"
          ]
        }
      ]
    },
    {
      "cell_type": "markdown",
      "source": [
        "21. Write a Python program to check if two strings are anagrams of each other."
      ],
      "metadata": {
        "id": "-quRO4iUTg2t"
      }
    },
    {
      "cell_type": "code",
      "source": [
        "def are_anagrams(str1, str2):\n",
        "    str1 = str1.replace(\" \", \"\").lower()\n",
        "    str2 = str2.replace(\" \", \"\").lower()\n",
        "\n",
        "    if sorted(str1) == sorted(str2):\n",
        "        return True\n",
        "    else:\n",
        "        return False\n",
        "\n",
        "# Example usage\n",
        "string1 = \"listen\"\n",
        "string2 = \"silent\"\n",
        "result = are_anagrams(string1, string2)\n",
        "print(result)\n"
      ],
      "metadata": {
        "colab": {
          "base_uri": "https://localhost:8080/"
        },
        "id": "1g0rqj7eTenv",
        "outputId": "c239a1d0-cd89-4948-8908-5a17c6dea44f"
      },
      "execution_count": 32,
      "outputs": [
        {
          "output_type": "stream",
          "name": "stdout",
          "text": [
            "True\n"
          ]
        }
      ]
    },
    {
      "cell_type": "markdown",
      "source": [
        "22. Implement a function to find the first non-repeating character in a string."
      ],
      "metadata": {
        "id": "sLQ1EczZTwub"
      }
    },
    {
      "cell_type": "code",
      "source": [
        "def find_first_non_repeating_char(string):\n",
        "    char_count = {}\n",
        "\n",
        "    for char in string:\n",
        "        if char in char_count:\n",
        "            char_count[char] += 1\n",
        "        else:\n",
        "            char_count[char] = 1\n",
        "\n",
        "    for char in string:\n",
        "        if char_count[char] == 1:\n",
        "            return char\n",
        "\n",
        "    return None\n",
        "\n",
        "# Example usage\n",
        "input_string = \"abacabad\"\n",
        "result = find_first_non_repeating_char(input_string)\n",
        "print(result)\n"
      ],
      "metadata": {
        "colab": {
          "base_uri": "https://localhost:8080/"
        },
        "id": "3XrWqWb9TuTF",
        "outputId": "11a301d6-0e08-41d7-ac3b-650fced9880b"
      },
      "execution_count": 33,
      "outputs": [
        {
          "output_type": "stream",
          "name": "stdout",
          "text": [
            "c\n"
          ]
        }
      ]
    },
    {
      "cell_type": "markdown",
      "source": [
        "23. Write a program to find the prime factors of a given number."
      ],
      "metadata": {
        "id": "BlSpPVhxT7gD"
      }
    },
    {
      "cell_type": "code",
      "source": [
        "def find_prime_factors(number):\n",
        "    factors = []\n",
        "    divisor = 2\n",
        "\n",
        "    while divisor <= number:\n",
        "        if number % divisor == 0:\n",
        "            factors.append(divisor)\n",
        "            number //= divisor\n",
        "        else:\n",
        "            divisor += 1\n",
        "\n",
        "    return factors\n",
        "\n",
        "# Example usage\n",
        "input_number = 36\n",
        "prime_factors = find_prime_factors(input_number)\n",
        "print(prime_factors)\n"
      ],
      "metadata": {
        "colab": {
          "base_uri": "https://localhost:8080/"
        },
        "id": "TWPMr7S6UFH-",
        "outputId": "d568cd50-5566-4996-baa2-11cd254ad241"
      },
      "execution_count": 34,
      "outputs": [
        {
          "output_type": "stream",
          "name": "stdout",
          "text": [
            "[2, 2, 3, 3]\n"
          ]
        }
      ]
    },
    {
      "cell_type": "markdown",
      "source": [
        "24. Implement a function to check if a given number is a power of two."
      ],
      "metadata": {
        "id": "sfZGeUQaUJfn"
      }
    },
    {
      "cell_type": "code",
      "source": [
        "def is_power_of_two(number):\n",
        "    if number <= 0:\n",
        "        return False\n",
        "    else:\n",
        "        return (number & (number - 1)) == 0\n",
        "\n",
        "# Example usage\n",
        "input_number = 16\n",
        "result = is_power_of_two(input_number)\n",
        "print(result)\n"
      ],
      "metadata": {
        "colab": {
          "base_uri": "https://localhost:8080/"
        },
        "id": "ljQkTiz6T5A7",
        "outputId": "af83c7a6-264b-41cc-e566-59cffc8c760d"
      },
      "execution_count": 35,
      "outputs": [
        {
          "output_type": "stream",
          "name": "stdout",
          "text": [
            "True\n"
          ]
        }
      ]
    },
    {
      "cell_type": "markdown",
      "source": [
        "25. Write a Python program to merge two sorted lists into a single sorted list."
      ],
      "metadata": {
        "id": "Kv_2Mn9OUSai"
      }
    },
    {
      "cell_type": "code",
      "source": [
        "def merge_sorted_lists(list1, list2):\n",
        "    merged_list = []\n",
        "    i = 0\n",
        "    j = 0\n",
        "\n",
        "    while i < len(list1) and j < len(list2):\n",
        "        if list1[i] <= list2[j]:\n",
        "            merged_list.append(list1[i])\n",
        "            i += 1\n",
        "        else:\n",
        "            merged_list.append(list2[j])\n",
        "            j += 1\n",
        "\n",
        "    # Append any remaining elements from list1 or list2\n",
        "    merged_list.extend(list1[i:])\n",
        "    merged_list.extend(list2[j:])\n",
        "\n",
        "    return merged_list\n",
        "\n",
        "# Example usage\n",
        "list1 = [1, 4, 7, 9]\n",
        "list2 = [2, 3, 6, 8]\n",
        "merged_list = merge_sorted_lists(list1, list2)\n",
        "print(merged_list)\n"
      ],
      "metadata": {
        "colab": {
          "base_uri": "https://localhost:8080/"
        },
        "id": "h8-vsAnAUQjf",
        "outputId": "ec3fbd6d-1c39-4c34-8c4f-4465b2af9f55"
      },
      "execution_count": 36,
      "outputs": [
        {
          "output_type": "stream",
          "name": "stdout",
          "text": [
            "[1, 2, 3, 4, 6, 7, 8, 9]\n"
          ]
        }
      ]
    },
    {
      "cell_type": "markdown",
      "source": [
        "26. Implement a function to find the mode of a list of numbers"
      ],
      "metadata": {
        "id": "vr0dAH8MUgr2"
      }
    },
    {
      "cell_type": "code",
      "source": [
        "from collections import Counter\n",
        "\n",
        "def find_mode(numbers):\n",
        "    counter = Counter(numbers)\n",
        "    modes = counter.most_common()\n",
        "    max_count = modes[0][1]\n",
        "\n",
        "    mode_list = []\n",
        "    for num, count in modes:\n",
        "        if count == max_count:\n",
        "            mode_list.append(num)\n",
        "        else:\n",
        "            break\n",
        "\n",
        "    return mode_list\n",
        "\n",
        "# Example usage\n",
        "number_list = [1, 2, 2, 3, 3, 3, 4, 4, 4, 4]\n",
        "modes = find_mode(number_list)\n",
        "print(modes)\n"
      ],
      "metadata": {
        "colab": {
          "base_uri": "https://localhost:8080/"
        },
        "id": "YdXU2TYPUeRR",
        "outputId": "a775ed1e-4295-4480-a6ef-307f4697a6d1"
      },
      "execution_count": 37,
      "outputs": [
        {
          "output_type": "stream",
          "name": "stdout",
          "text": [
            "[4]\n"
          ]
        }
      ]
    },
    {
      "cell_type": "markdown",
      "source": [
        "27. Write a program to find the greatest common divisor (GCD) of two numbers."
      ],
      "metadata": {
        "id": "X8ch7q9tUvB4"
      }
    },
    {
      "cell_type": "code",
      "source": [
        "def find_gcd(a, b):\n",
        "    while b != 0:\n",
        "        a, b = b, a % b\n",
        "    return a\n",
        "\n",
        "# Example usage\n",
        "number1 = 48\n",
        "number2 = 18\n",
        "gcd = find_gcd(number1, number2)\n",
        "print(gcd)\n"
      ],
      "metadata": {
        "colab": {
          "base_uri": "https://localhost:8080/"
        },
        "id": "wKHNx8l4UtTI",
        "outputId": "5c9aca67-88cb-4fb4-e7a5-3117be70f0c2"
      },
      "execution_count": 38,
      "outputs": [
        {
          "output_type": "stream",
          "name": "stdout",
          "text": [
            "6\n"
          ]
        }
      ]
    },
    {
      "cell_type": "markdown",
      "source": [
        "28. Implement a function to calculate the square root of a given number."
      ],
      "metadata": {
        "id": "KDwnEwOmU5-q"
      }
    },
    {
      "cell_type": "code",
      "source": [
        "def calculate_square_root(number, epsilon=1e-6):\n",
        "    if number < 0:\n",
        "        raise ValueError(\"Square root is undefined for negative numbers.\")\n",
        "    if number == 0:\n",
        "        return 0\n",
        "\n",
        "    guess = number / 2\n",
        "    while abs(guess * guess - number) > epsilon:\n",
        "        guess = (guess + number / guess) / 2\n",
        "\n",
        "    return guess\n",
        "\n",
        "# Example usage\n",
        "input_number = 9\n",
        "square_root = calculate_square_root(input_number)\n",
        "print(square_root)\n"
      ],
      "metadata": {
        "colab": {
          "base_uri": "https://localhost:8080/"
        },
        "id": "AfVYUdfNU4GP",
        "outputId": "62ec198d-2e76-4742-b9d9-0ec1bb335be2"
      },
      "execution_count": 39,
      "outputs": [
        {
          "output_type": "stream",
          "name": "stdout",
          "text": [
            "3.0000000000393214\n"
          ]
        }
      ]
    },
    {
      "cell_type": "markdown",
      "source": [
        "29. Write a Python program to check if a given string is a valid palindrome ignoring non-alphanumeric characters."
      ],
      "metadata": {
        "id": "LOkEbGl5VEZx"
      }
    },
    {
      "cell_type": "code",
      "source": [
        "import re\n",
        "\n",
        "def is_valid_palindrome(string):\n",
        "    # Remove non-alphanumeric characters and convert to lowercase\n",
        "    alphanumeric_string = re.sub(r'\\W+', '', string).lower()\n",
        "\n",
        "    # Check if the alphanumeric string is equal to its reverse\n",
        "    return alphanumeric_string == alphanumeric_string[::-1]\n",
        "\n",
        "# Example usage\n",
        "input_string = \"A man, a plan, a canal: Panama.\"\n",
        "result = is_valid_palindrome(input_string)\n",
        "print(result)\n"
      ],
      "metadata": {
        "colab": {
          "base_uri": "https://localhost:8080/"
        },
        "id": "pqhhE1EYVC4N",
        "outputId": "d9d02d11-3bbf-4763-827a-af18a1e444ca"
      },
      "execution_count": 40,
      "outputs": [
        {
          "output_type": "stream",
          "name": "stdout",
          "text": [
            "True\n"
          ]
        }
      ]
    },
    {
      "cell_type": "markdown",
      "source": [
        "30. Implement a function to find the minimum element in a rotated sorted list."
      ],
      "metadata": {
        "id": "pUrOg-x-VOCB"
      }
    },
    {
      "cell_type": "code",
      "source": [
        "def find_minimum_element(rotated_list):\n",
        "    left = 0\n",
        "    right = len(rotated_list) - 1\n",
        "\n",
        "    while left < right:\n",
        "        mid = left + (right - left) // 2\n",
        "\n",
        "        if rotated_list[mid] > rotated_list[right]:\n",
        "            left = mid + 1\n",
        "        else:\n",
        "            right = mid\n",
        "\n",
        "    return rotated_list[left]\n",
        "\n",
        "# Example usage\n",
        "input_list = [4, 5, 6, 7, 0, 1, 2]\n",
        "minimum = find_minimum_element(input_list)\n",
        "print(minimum)\n"
      ],
      "metadata": {
        "colab": {
          "base_uri": "https://localhost:8080/"
        },
        "id": "OQBlZjqLVMFj",
        "outputId": "d52d7255-a303-4037-a681-6cdcdfad8c5e"
      },
      "execution_count": 41,
      "outputs": [
        {
          "output_type": "stream",
          "name": "stdout",
          "text": [
            "0\n"
          ]
        }
      ]
    },
    {
      "cell_type": "markdown",
      "source": [
        "31. Write a program to find the sum of all even numbers in a list."
      ],
      "metadata": {
        "id": "sOqceSpuVYVM"
      }
    },
    {
      "cell_type": "code",
      "source": [
        "def sum_even_numbers(numbers):\n",
        "    even_sum = 0\n",
        "    for num in numbers:\n",
        "        if num % 2 == 0:\n",
        "            even_sum += num\n",
        "    return even_sum\n",
        "\n",
        "# Example usage\n",
        "number_list = [1, 2, 3, 4, 5, 6, 7, 8, 9, 10]\n",
        "even_sum = sum_even_numbers(number_list)\n",
        "print(even_sum)\n"
      ],
      "metadata": {
        "colab": {
          "base_uri": "https://localhost:8080/"
        },
        "id": "zBLyt9HlVWv_",
        "outputId": "1e285506-dd81-4f86-afcd-813d50ef9780"
      },
      "execution_count": 42,
      "outputs": [
        {
          "output_type": "stream",
          "name": "stdout",
          "text": [
            "30\n"
          ]
        }
      ]
    },
    {
      "cell_type": "markdown",
      "source": [
        "32. Implement a function to calculate the power of a number using recursion."
      ],
      "metadata": {
        "id": "hRffjHfhViC1"
      }
    },
    {
      "cell_type": "code",
      "source": [
        "def power(base, exponent):\n",
        "    if exponent == 0:\n",
        "        return 1\n",
        "    elif exponent < 0:\n",
        "        return 1 / power(base, -exponent)\n",
        "    else:\n",
        "        return base * power(base, exponent - 1)\n",
        "\n",
        "# Example usage\n",
        "base_number = 2\n",
        "exponent_number = 3\n",
        "result = power(base_number, exponent_number)\n",
        "print(result)\n"
      ],
      "metadata": {
        "colab": {
          "base_uri": "https://localhost:8080/"
        },
        "id": "JGKGZnhcVgkg",
        "outputId": "5809a90c-8de4-4ff6-d45e-88f0e1f3f8fc"
      },
      "execution_count": 43,
      "outputs": [
        {
          "output_type": "stream",
          "name": "stdout",
          "text": [
            "8\n"
          ]
        }
      ]
    },
    {
      "cell_type": "markdown",
      "source": [
        "33. Write a Python program to remove duplicates from a list while preserving the order"
      ],
      "metadata": {
        "id": "2i8zWBcIVsGs"
      }
    },
    {
      "cell_type": "code",
      "source": [
        "def remove_duplicates_preserve_order(input_list):\n",
        "    seen = set()\n",
        "    output_list = []\n",
        "\n",
        "    for item in input_list:\n",
        "        if item not in seen:\n",
        "            seen.add(item)\n",
        "            output_list.append(item)\n",
        "\n",
        "    return output_list\n",
        "\n",
        "# Example usage\n",
        "input_list = [1, 2, 3, 2, 4, 1, 5, 6, 4]\n",
        "output_list = remove_duplicates_preserve_order(input_list)\n",
        "print(output_list)\n"
      ],
      "metadata": {
        "colab": {
          "base_uri": "https://localhost:8080/"
        },
        "id": "hfvMRQzNVqLk",
        "outputId": "eec9809e-a636-4b5f-89cb-8641f96d9e67"
      },
      "execution_count": 44,
      "outputs": [
        {
          "output_type": "stream",
          "name": "stdout",
          "text": [
            "[1, 2, 3, 4, 5, 6]\n"
          ]
        }
      ]
    },
    {
      "cell_type": "markdown",
      "source": [
        "34. Implement a function to find the longest common prefix among a list of strings."
      ],
      "metadata": {
        "id": "8EQaFAB5V1uM"
      }
    },
    {
      "cell_type": "code",
      "source": [
        "def find_longest_common_prefix(strings):\n",
        "    if not strings:\n",
        "        return \"\"\n",
        "\n",
        "    # Find the shortest string in the list\n",
        "    shortest = min(strings, key=len)\n",
        "\n",
        "    for i, char in enumerate(shortest):\n",
        "        for string in strings:\n",
        "            if string[i] != char:\n",
        "                return shortest[:i]\n",
        "\n",
        "    return shortest\n",
        "\n",
        "# Example usage\n",
        "input_strings = [\"flower\", \"flow\", \"flight\"]\n",
        "common_prefix = find_longest_common_prefix(input_strings)\n",
        "print(common_prefix)\n"
      ],
      "metadata": {
        "colab": {
          "base_uri": "https://localhost:8080/"
        },
        "id": "qfNvXLaCVzk1",
        "outputId": "7c90edbe-865d-45ed-bd93-729675074969"
      },
      "execution_count": 45,
      "outputs": [
        {
          "output_type": "stream",
          "name": "stdout",
          "text": [
            "fl\n"
          ]
        }
      ]
    },
    {
      "cell_type": "markdown",
      "source": [
        "35. Write a program to check if a given number is a perfect square."
      ],
      "metadata": {
        "id": "ByDIsklDV_ij"
      }
    },
    {
      "cell_type": "code",
      "source": [
        "def is_perfect_square(number):\n",
        "    if number < 0:\n",
        "        return False\n",
        "\n",
        "    sqrt = int(number ** 0.5)\n",
        "    return sqrt * sqrt == number\n",
        "\n",
        "# Example usage\n",
        "input_number = 16\n",
        "result = is_perfect_square(input_number)\n",
        "print(result)\n"
      ],
      "metadata": {
        "colab": {
          "base_uri": "https://localhost:8080/"
        },
        "id": "hI6_cvjKV-A_",
        "outputId": "e5ffc351-5124-4f2f-ef4d-c01d7fd4b62d"
      },
      "execution_count": 46,
      "outputs": [
        {
          "output_type": "stream",
          "name": "stdout",
          "text": [
            "True\n"
          ]
        }
      ]
    },
    {
      "cell_type": "markdown",
      "source": [
        "36. Implement a function to calculate the product of all elements in a list."
      ],
      "metadata": {
        "id": "I1jus5GfWKEU"
      }
    },
    {
      "cell_type": "code",
      "source": [
        "def calculate_product(numbers):\n",
        "    if not numbers:\n",
        "        return 0\n",
        "\n",
        "    product = 1\n",
        "    for num in numbers:\n",
        "        product *= num\n",
        "\n",
        "    return product\n",
        "\n",
        "# Example usage\n",
        "number_list = [2, 3, 4, 5]\n",
        "product = calculate_product(number_list)\n",
        "print(product)\n"
      ],
      "metadata": {
        "colab": {
          "base_uri": "https://localhost:8080/"
        },
        "id": "OhTeoRgvWH8S",
        "outputId": "0ebaeff7-5005-4983-a50c-459203611255"
      },
      "execution_count": 47,
      "outputs": [
        {
          "output_type": "stream",
          "name": "stdout",
          "text": [
            "120\n"
          ]
        }
      ]
    },
    {
      "cell_type": "markdown",
      "source": [
        "37. Write a Python program to reverse the order of words in a sentence while preserving the word order."
      ],
      "metadata": {
        "id": "S2G8dieJWTah"
      }
    },
    {
      "cell_type": "code",
      "source": [
        "def reverse_words(sentence):\n",
        "    words = sentence.split()\n",
        "    reversed_words = words[::-1]\n",
        "    reversed_sentence = ' '.join(reversed_words)\n",
        "    return reversed_sentence\n",
        "\n",
        "# Example usage\n",
        "input_sentence = \"Hello World, how are you?\"\n",
        "reversed_sentence = reverse_words(input_sentence)\n",
        "print(reversed_sentence)\n"
      ],
      "metadata": {
        "colab": {
          "base_uri": "https://localhost:8080/"
        },
        "id": "ZkRB3xv9WR-w",
        "outputId": "5919278d-a5c7-4588-d7b7-f6a122f2ea87"
      },
      "execution_count": 48,
      "outputs": [
        {
          "output_type": "stream",
          "name": "stdout",
          "text": [
            "you? are how World, Hello\n"
          ]
        }
      ]
    },
    {
      "cell_type": "markdown",
      "source": [
        "38. Implement a function to find the missing number in a given list of consecutive numbers"
      ],
      "metadata": {
        "id": "aslc47cQWdYR"
      }
    },
    {
      "cell_type": "code",
      "source": [
        "def find_missing_number(numbers):\n",
        "    n = len(numbers) + 1\n",
        "    expected_sum = n * (n + 1) // 2\n",
        "    actual_sum = sum(numbers)\n",
        "    missing_number = expected_sum - actual_sum\n",
        "    return missing_number\n",
        "\n",
        "# Example usage\n",
        "input_list = [1, 2, 3, 5, 6, 7, 8]\n",
        "missing_number = find_missing_number(input_list)\n",
        "print(missing_number)\n"
      ],
      "metadata": {
        "colab": {
          "base_uri": "https://localhost:8080/"
        },
        "id": "MAKBxQbQWb9p",
        "outputId": "11a1ecdf-e264-44b8-9f49-d6c4ba4a2eea"
      },
      "execution_count": 49,
      "outputs": [
        {
          "output_type": "stream",
          "name": "stdout",
          "text": [
            "4\n"
          ]
        }
      ]
    },
    {
      "cell_type": "markdown",
      "source": [
        "39. Write a program to find the sum of digits of a given number."
      ],
      "metadata": {
        "id": "fqVxXk6pWnEw"
      }
    },
    {
      "cell_type": "code",
      "source": [
        "def sum_of_digits(number):\n",
        "    sum = 0\n",
        "    while number > 0:\n",
        "        digit = number % 10\n",
        "        sum += digit\n",
        "        number //= 10\n",
        "    return sum\n",
        "\n",
        "# Example usage\n",
        "input_number = 12345\n",
        "digit_sum = sum_of_digits(input_number)\n",
        "print(digit_sum)\n"
      ],
      "metadata": {
        "colab": {
          "base_uri": "https://localhost:8080/"
        },
        "id": "dEPT6_eMWlfi",
        "outputId": "53c54c52-7300-4cd4-a982-523bbe85abf8"
      },
      "execution_count": 50,
      "outputs": [
        {
          "output_type": "stream",
          "name": "stdout",
          "text": [
            "15\n"
          ]
        }
      ]
    },
    {
      "cell_type": "markdown",
      "source": [
        "40. Implement a function to check if a given string is a valid palindrome considering case sensitivity."
      ],
      "metadata": {
        "id": "BPRVArLHWvxu"
      }
    },
    {
      "cell_type": "code",
      "source": [
        "def is_valid_palindrome(string):\n",
        "    # Remove whitespace and convert to lowercase\n",
        "    modified_string = ''.join(string.split()).lower()\n",
        "    return modified_string == modified_string[::-1]\n",
        "\n",
        "# Example usage\n",
        "input_string = \"Racecar\"\n",
        "result = is_valid_palindrome(input_string)\n",
        "print(result)\n"
      ],
      "metadata": {
        "colab": {
          "base_uri": "https://localhost:8080/"
        },
        "id": "3zGoj3RxWuWs",
        "outputId": "c98af582-e56c-4352-d186-5c4c9b0e9034"
      },
      "execution_count": 51,
      "outputs": [
        {
          "output_type": "stream",
          "name": "stdout",
          "text": [
            "True\n"
          ]
        }
      ]
    },
    {
      "cell_type": "markdown",
      "source": [
        "41. Write a Python program to find the smallest missing positive integer in a list."
      ],
      "metadata": {
        "id": "7dO59Jt7W82S"
      }
    },
    {
      "cell_type": "code",
      "source": [
        "def find_smallest_missing_positive_integer(numbers):\n",
        "    n = len(numbers)\n",
        "\n",
        "    # Move all positive integers to the left\n",
        "    j = 0\n",
        "    for i in range(n):\n",
        "        if numbers[i] > 0:\n",
        "            numbers[i], numbers[j] = numbers[j], numbers[i]\n",
        "            j += 1\n",
        "\n",
        "    # Consider only positive integers from index 0 to j\n",
        "    for i in range(j):\n",
        "        num = abs(numbers[i])\n",
        "        if num <= j:\n",
        "            numbers[num - 1] = -abs(numbers[num - 1])\n",
        "\n",
        "    # Find the smallest missing positive integer\n",
        "    for i in range(j):\n",
        "        if numbers[i] > 0:\n",
        "            return i + 1\n",
        "\n",
        "    return j + 1\n",
        "\n",
        "# Example usage\n",
        "input_list = [3, 4, -1, 1]\n",
        "smallest_missing = find_smallest_missing_positive_integer(input_list)\n",
        "print(smallest_missing)\n"
      ],
      "metadata": {
        "colab": {
          "base_uri": "https://localhost:8080/"
        },
        "id": "SFbgYyJaW5Nb",
        "outputId": "2ccb9c3f-aadc-4495-f1bd-fb3b4c2c7d9a"
      },
      "execution_count": 52,
      "outputs": [
        {
          "output_type": "stream",
          "name": "stdout",
          "text": [
            "2\n"
          ]
        }
      ]
    },
    {
      "cell_type": "markdown",
      "source": [
        "42. Implement a function to find the longest palindrome substring in a given string."
      ],
      "metadata": {
        "id": "P3Gu1wFcXH9Z"
      }
    },
    {
      "cell_type": "code",
      "source": [
        "def longest_palindrome_substring(string):\n",
        "    n = len(string)\n",
        "    longest_length = 0\n",
        "    start = 0\n",
        "\n",
        "    # Helper function to expand around center\n",
        "    def expand_around_center(left, right):\n",
        "        nonlocal start, longest_length\n",
        "        while left >= 0 and right < n and string[left] == string[right]:\n",
        "            left -= 1\n",
        "            right += 1\n",
        "        current_length = right - left - 1\n",
        "        if current_length > longest_length:\n",
        "            longest_length = current_length\n",
        "            start = left + 1\n",
        "\n",
        "    # Check for odd-length palindromes\n",
        "    for i in range(n):\n",
        "        expand_around_center(i, i)\n",
        "\n",
        "    # Check for even-length palindromes\n",
        "    for i in range(n - 1):\n",
        "        expand_around_center(i, i + 1)\n",
        "\n",
        "    return string[start:start + longest_length]\n",
        "\n",
        "# Example usage\n",
        "input_string = \"babad\"\n",
        "longest_palindrome = longest_palindrome_substring(input_string)\n",
        "print(longest_palindrome)\n"
      ],
      "metadata": {
        "colab": {
          "base_uri": "https://localhost:8080/"
        },
        "id": "s_H2IsINXGNF",
        "outputId": "a69a7d5c-d896-46c0-cf8b-fa52360ad972"
      },
      "execution_count": 53,
      "outputs": [
        {
          "output_type": "stream",
          "name": "stdout",
          "text": [
            "bab\n"
          ]
        }
      ]
    },
    {
      "cell_type": "markdown",
      "source": [
        "43. Write a program to find the number of occurrences of a given element in a list."
      ],
      "metadata": {
        "id": "gMRvWLjRXSaV"
      }
    },
    {
      "cell_type": "code",
      "source": [
        "def count_occurrences(elements, target):\n",
        "    count = 0\n",
        "    for element in elements:\n",
        "        if element == target:\n",
        "            count += 1\n",
        "    return count\n",
        "\n",
        "# Example usage\n",
        "input_list = [1, 2, 3, 2, 4, 2, 5, 2]\n",
        "target_element = 2\n",
        "occurrence_count = count_occurrences(input_list, target_element)\n",
        "print(occurrence_count)\n"
      ],
      "metadata": {
        "colab": {
          "base_uri": "https://localhost:8080/"
        },
        "id": "ZllM21mgXQua",
        "outputId": "870ec65e-ce57-4a74-da86-3cad200fc031"
      },
      "execution_count": 54,
      "outputs": [
        {
          "output_type": "stream",
          "name": "stdout",
          "text": [
            "4\n"
          ]
        }
      ]
    },
    {
      "cell_type": "markdown",
      "source": [
        "44. Implement a function to check if a given number is a perfect number."
      ],
      "metadata": {
        "id": "ymVciy9UXfXW"
      }
    },
    {
      "cell_type": "code",
      "source": [
        "def is_perfect_number(number):\n",
        "    if number <= 0:\n",
        "        return False\n",
        "\n",
        "    divisors_sum = sum(\n",
        "        divisor for divisor in range(1, number) if number % divisor == 0\n",
        "    )\n",
        "\n",
        "    return divisors_sum == number\n",
        "\n",
        "# Example usage\n",
        "input_number = 28\n",
        "result = is_perfect_number(input_number)\n",
        "print(result)\n"
      ],
      "metadata": {
        "colab": {
          "base_uri": "https://localhost:8080/"
        },
        "id": "ys_8YtSmXeKy",
        "outputId": "4b814039-2958-4d27-cb5b-87c097163e65"
      },
      "execution_count": 55,
      "outputs": [
        {
          "output_type": "stream",
          "name": "stdout",
          "text": [
            "True\n"
          ]
        }
      ]
    },
    {
      "cell_type": "markdown",
      "source": [
        "45. Write a Python program to remove all duplicates from a string."
      ],
      "metadata": {
        "id": "2a8UbPTGXptv"
      }
    },
    {
      "cell_type": "code",
      "source": [
        "def remove_duplicates(string):\n",
        "    unique_chars = []\n",
        "    for char in string:\n",
        "        if char not in unique_chars:\n",
        "            unique_chars.append(char)\n",
        "    return ''.join(unique_chars)\n",
        "\n",
        "# Example usage\n",
        "input_string = \"hello\"\n",
        "result = remove_duplicates(input_string)\n",
        "print(result)\n"
      ],
      "metadata": {
        "colab": {
          "base_uri": "https://localhost:8080/"
        },
        "id": "t1t_aP8EXoD_",
        "outputId": "f2e60fd0-d774-41b5-caf2-e1976789c204"
      },
      "execution_count": 56,
      "outputs": [
        {
          "output_type": "stream",
          "name": "stdout",
          "text": [
            "helo\n"
          ]
        }
      ]
    },
    {
      "cell_type": "markdown",
      "source": [
        "46. Implement a function to find the first missing positive"
      ],
      "metadata": {
        "id": "IF7au1ahXye-"
      }
    },
    {
      "cell_type": "code",
      "source": [
        "def find_first_missing_positive(numbers):\n",
        "    n = len(numbers)\n",
        "\n",
        "    # Move all positive integers to the left\n",
        "    j = 0\n",
        "    for i in range(n):\n",
        "        if numbers[i] > 0:\n",
        "            numbers[i], numbers[j] = numbers[j], numbers[i]\n",
        "            j += 1\n",
        "\n",
        "    # Consider only positive integers from index 0 to j\n",
        "    for i in range(j):\n",
        "        num = abs(numbers[i])\n",
        "        if num <= j:\n",
        "            numbers[num - 1] = -abs(numbers[num - 1])\n",
        "\n",
        "    # Find the first missing positive integer\n",
        "    for i in range(j):\n",
        "        if numbers[i] > 0:\n",
        "            return i + 1\n",
        "\n",
        "    return j + 1\n",
        "\n",
        "# Example usage\n",
        "input_list = [3, 4, -1, 1]\n",
        "missing_positive = find_first_missing_positive(input_list)\n",
        "print(missing_positive)\n"
      ],
      "metadata": {
        "colab": {
          "base_uri": "https://localhost:8080/"
        },
        "id": "7IJMaO_jXxEG",
        "outputId": "962eee79-390b-4026-87e2-e7450bc9754b"
      },
      "execution_count": 57,
      "outputs": [
        {
          "output_type": "stream",
          "name": "stdout",
          "text": [
            "2\n"
          ]
        }
      ]
    },
    {
      "cell_type": "code",
      "source": [],
      "metadata": {
        "id": "J8-Fy4HNYAqz"
      },
      "execution_count": null,
      "outputs": []
    }
  ]
}