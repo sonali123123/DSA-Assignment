{
  "nbformat": 4,
  "nbformat_minor": 0,
  "metadata": {
    "colab": {
      "provenance": []
    },
    "kernelspec": {
      "name": "python3",
      "display_name": "Python 3"
    },
    "language_info": {
      "name": "python"
    }
  },
  "cells": [
    {
      "cell_type": "markdown",
      "source": [
        "# Assignment 20 - Tree"
      ],
      "metadata": {
        "id": "MfwaDiUMnHui"
      }
    },
    {
      "cell_type": "markdown",
      "source": [
        "1. Given a binary tree, task is to find subtree with maximum sum in tree.\n",
        "\n",
        "Examples:\n",
        "\n",
        "Input :       1\n",
        "\n",
        "/   \\\n",
        "\n",
        "2      3\n",
        "\n",
        "/ \\    / \\\n",
        "\n",
        "4   5  6   7\n",
        "\n",
        "Output : 28\n",
        "\n",
        "As all the tree elements are positive,\n",
        "\n",
        "the largest subtree sum is equal to\n",
        "\n",
        "sum of all tree elements.\n",
        "\n",
        "Input :\n",
        "\n",
        "    1\n",
        "\n",
        "/    \\\n",
        "\n",
        "-2      3\n",
        "\n",
        "/ \\    /  \\\n",
        "\n",
        "4   5  -6   2\n",
        "\n",
        "Output : 7\n",
        "\n",
        "Subtree with largest sum is :\n",
        "\n",
        "-2\n",
        "\n",
        "/ \\\n",
        "\n",
        "4   5\n",
        "\n",
        "Also, entire tree sum is also 7.\n",
        "\n",
        "**Ans:**"
      ],
      "metadata": {
        "id": "e0cHedtOnRD8"
      }
    },
    {
      "cell_type": "code",
      "execution_count": 1,
      "metadata": {
        "colab": {
          "base_uri": "https://localhost:8080/"
        },
        "id": "AsxCdWu1m7Du",
        "outputId": "426d26a6-d0e3-4c56-c1d3-f51a3cc42b3b"
      },
      "outputs": [
        {
          "output_type": "stream",
          "name": "stdout",
          "text": [
            "7\n"
          ]
        }
      ],
      "source": [
        "class TreeNode:\n",
        "    def __init__(self, val=0, left=None, right=None):\n",
        "        self.val = val\n",
        "        self.left = left\n",
        "        self.right = right\n",
        "\n",
        "\n",
        "def findMaxSubtreeSum(node):\n",
        "    if node is None:\n",
        "        return 0\n",
        "\n",
        "    left_sum = findMaxSubtreeSum(node.left)\n",
        "    right_sum = findMaxSubtreeSum(node.right)\n",
        "\n",
        "    subtree_sum = node.val + left_sum + right_sum\n",
        "\n",
        "    global max_sum\n",
        "    if subtree_sum > max_sum:\n",
        "        max_sum = subtree_sum\n",
        "\n",
        "    return subtree_sum\n",
        "\n",
        "\n",
        "def findMaximumSubtreeSum(root):\n",
        "    global max_sum\n",
        "    max_sum = float('-inf')\n",
        "    findMaxSubtreeSum(root)\n",
        "    return max_sum\n",
        "\n",
        "\n",
        "# Test case\n",
        "root = TreeNode(1)\n",
        "root.left = TreeNode(-2)\n",
        "root.right = TreeNode(3)\n",
        "root.left.left = TreeNode(4)\n",
        "root.left.right = TreeNode(5)\n",
        "root.right.left = TreeNode(-6)\n",
        "root.right.right = TreeNode(2)\n",
        "\n",
        "print(findMaximumSubtreeSum(root))"
      ]
    },
    {
      "cell_type": "markdown",
      "source": [
        "2. Construct the BST (Binary Search Tree) from its given level order traversal.\n",
        "\n",
        "Examples:\n",
        "\n",
        "Input: arr[] = {7, 4, 12, 3, 6, 8, 1, 5, 10}\n",
        "\n",
        "Output: BST:\n",
        "\n",
        "7\n",
        "\n",
        "/    \\\n",
        "\n",
        "4     12\n",
        "\n",
        "/  \\     /\n",
        "\n",
        "3   6  8\n",
        "\n",
        "/   /   \\\n",
        "\n",
        "1  5   10\n",
        "\n",
        "**Ans:**"
      ],
      "metadata": {
        "id": "nI4cP7NCo6z2"
      }
    },
    {
      "cell_type": "code",
      "source": [
        "class Node:\n",
        "    def __init__(self, data):\n",
        "        self.data = data\n",
        "        self.left = None\n",
        "        self.right = None\n",
        "\n",
        "\n",
        "def constructBST(level_order):\n",
        "    if not level_order:\n",
        "        return None\n",
        "\n",
        "    root = Node(level_order[0])\n",
        "    queue = [(root, float('-inf'), float('inf'))]\n",
        "    i = 1\n",
        "\n",
        "    while i < len(level_order):\n",
        "        parent, min_val, max_val = queue[0]\n",
        "        queue.pop(0)\n",
        "\n",
        "        if level_order[i] < parent.data and min_val < level_order[i] < parent.data:\n",
        "            left_child = Node(level_order[i])\n",
        "            parent.left = left_child\n",
        "            queue.append((left_child, min_val, parent.data))\n",
        "            i += 1\n",
        "\n",
        "        if i < len(level_order) and level_order[i] > parent.data and parent.data < level_order[i] < max_val:\n",
        "            right_child = Node(level_order[i])\n",
        "            parent.right = right_child\n",
        "            queue.append((right_child, parent.data, max_val))\n",
        "            i += 1\n",
        "\n",
        "    return root\n",
        "\n",
        "\n",
        "def inorderTraversal(node):\n",
        "    if node:\n",
        "        inorderTraversal(node.left)\n",
        "        print(node.data, end=\" \")\n",
        "        inorderTraversal(node.right)\n",
        "\n",
        "\n",
        "# Example usage\n",
        "level_order = [7, 4, 12, 3, 6, 8, 1, 5, 10]\n",
        "bst_root = constructBST(level_order)\n",
        "inorderTraversal(bst_root)"
      ],
      "metadata": {
        "colab": {
          "base_uri": "https://localhost:8080/"
        },
        "id": "VBg8yM-dpRa3",
        "outputId": "02bfafb8-dc5f-448d-8a28-cedc2567d958"
      },
      "execution_count": 2,
      "outputs": [
        {
          "output_type": "stream",
          "name": "stdout",
          "text": [
            "1 3 4 5 6 7 8 10 12 "
          ]
        }
      ]
    },
    {
      "cell_type": "markdown",
      "source": [
        "3. Given an array of size n. The problem is to check whether the given array can represent the level order traversal of a Binary Search Tree or not.\n",
        "\n",
        "Examples:\n",
        "\n",
        "Input : arr[] = {7, 4, 12, 3, 6, 8, 1, 5, 10}\n",
        "\n",
        "Output : Yes\n",
        "\n",
        "For the given arr[] the Binary Search Tree is:\n",
        "\n",
        "7\n",
        "\n",
        "/    \\\n",
        "\n",
        "4     12\n",
        "\n",
        "/ \\    /\n",
        "\n",
        "3   6  8\n",
        "\n",
        "/   /    \\\n",
        "\n",
        "1   5     10\n",
        "\n",
        "Input : arr[] = {11, 6, 13, 5, 12, 10}\n",
        "\n",
        "Output : No\n",
        "\n",
        "The given arr[] do not represent the level\n",
        "\n",
        "order traversal of a BST.\n",
        "\n",
        "**Ans:**"
      ],
      "metadata": {
        "id": "4A-W5HPWqSd3"
      }
    },
    {
      "cell_type": "code",
      "source": [
        "INT_MIN, INT_MAX = float('-inf'), float('inf')\n",
        "\n",
        "class NodeDetails:\n",
        "\tdef __init__(self, data, min, max):\n",
        "\t\tself.data = data\n",
        "\t\tself.min = min\n",
        "\t\tself.max = max\n",
        "\n",
        "def levelOrderIsOfBST(arr, n):\n",
        "\tif n == 0:\n",
        "\t\treturn True\n",
        "\n",
        "\tq = []\n",
        "\ti = 0\n",
        "\tnewNode = NodeDetails(arr[i], INT_MIN, INT_MAX)\n",
        "\ti += 1\n",
        "\tq.append(newNode)\n",
        "\n",
        "\twhile i != n and len(q) != 0:\n",
        "\t\ttemp = q.pop(0)\n",
        "\t\tif i < n and (arr[i] < temp.data and arr[i] > temp.min):\n",
        "\t\t\tnewNode = NodeDetails(arr[i], temp.min, temp.data)\n",
        "\t\t\ti += 1\n",
        "\t\t\tq.append(newNode)\n",
        "\t\tif i < n and (arr[i] > temp.data and arr[i] < temp.max):\n",
        "\t\t\tnewNode = NodeDetails(arr[i], temp.data, temp.max)\n",
        "\t\t\ti += 1\n",
        "\t\t\tq.append(newNode)\n",
        "\n",
        "\tif i == n:\n",
        "\t\treturn True\n",
        "\treturn False\n",
        "\n",
        "if __name__ == \"__main__\":\n",
        "\tarr = [7, 4, 12, 3, 6, 8, 1, 5, 10]\n",
        "\tn = len(arr)\n",
        "\tif levelOrderIsOfBST(arr, n):\n",
        "\t\tprint(\"Yes\")\n",
        "\telse:\n",
        "\t\tprint(\"No\")\n"
      ],
      "metadata": {
        "colab": {
          "base_uri": "https://localhost:8080/"
        },
        "id": "GFwUHNbUr6x4",
        "outputId": "cd8844b1-a5ff-486b-fafa-2f3d601e95f9"
      },
      "execution_count": 3,
      "outputs": [
        {
          "output_type": "stream",
          "name": "stdout",
          "text": [
            "Yes\n"
          ]
        }
      ]
    }
  ]
}