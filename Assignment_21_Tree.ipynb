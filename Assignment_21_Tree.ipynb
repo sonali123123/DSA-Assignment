{
  "cells": [
    {
      "cell_type": "markdown",
      "id": "16b99b8a",
      "metadata": {
        "id": "16b99b8a"
      },
      "source": [
        "# Assignment 21 - Tree"
      ]
    },
    {
      "cell_type": "code",
      "source": [
        "<aside>\n",
        "💡 Question-1\n",
        "\n",
        "You are given a binary tree. The binary tree is represented using the TreeNode class. Each TreeNode has an integer value and left and right children, represented using the TreeNode class itself. Convert this binary tree into a binary search tree.\n",
        "\n",
        "Input:\n",
        "\n",
        "        10\n",
        "\n",
        "       /   \\\n",
        "\n",
        "     2      7\n",
        "\n",
        "   /   \\\n",
        "\n",
        " 8      4\n",
        "\n",
        "Output:\n",
        "\n",
        "        8\n",
        "\n",
        "      /   \\\n",
        "\n",
        "    4     10\n",
        "\n",
        "  /   \\\n",
        "\n",
        "2      7\n",
        "\n",
        "</aside>"
      ],
      "metadata": {
        "id": "-q6Hj2gxbzzz"
      },
      "id": "-q6Hj2gxbzzz",
      "execution_count": null,
      "outputs": []
    },
    {
      "cell_type": "code",
      "source": [
        "class TreeNode:\n",
        "    def __init__(self, value):\n",
        "        self.val = value\n",
        "        self.left = None\n",
        "        self.right = None\n",
        "\n",
        "def inorder_traversal(root, nodes):\n",
        "    if root:\n",
        "        inorder_traversal(root.left, nodes)\n",
        "        nodes.append(root.val)\n",
        "        inorder_traversal(root.right, nodes)\n",
        "\n",
        "def convert_to_bst(root, nodes, index):\n",
        "    if root:\n",
        "        convert_to_bst(root.left, nodes, index)\n",
        "        root.val = nodes[index[0]]\n",
        "        index[0] += 1\n",
        "        convert_to_bst(root.right, nodes, index)\n",
        "\n",
        "def binary_tree_to_bst(root):\n",
        "    if not root:\n",
        "        return None\n",
        "\n",
        "    nodes = []\n",
        "    inorder_traversal(root, nodes)\n",
        "    nodes.sort()\n",
        "\n",
        "    index = [0]\n",
        "    convert_to_bst(root, nodes, index)\n",
        "\n",
        "    return root\n",
        "\n",
        "# Create the binary tree\n",
        "root = TreeNode(10)\n",
        "root.left = TreeNode(2)\n",
        "root.right = TreeNode(7)\n",
        "root.left.left = TreeNode(8)\n",
        "root.left.right = TreeNode(4)\n",
        "\n",
        "# Convert the binary tree to a binary search tree\n",
        "converted_root = binary_tree_to_bst(root)\n",
        "\n",
        "# Function to print the tree (inorder traversal)\n",
        "def print_tree(root):\n",
        "    if root:\n",
        "        print_tree(root.left)\n",
        "        print(root.val)\n",
        "        print_tree(root.right)\n",
        "\n",
        "# Print the converted binary search tree\n",
        "print_tree(converted_root)\n"
      ],
      "metadata": {
        "colab": {
          "base_uri": "https://localhost:8080/"
        },
        "id": "3U07Dkbnb2NI",
        "outputId": "025ab1ec-5e51-441f-fa02-c3fdd9e5e55f"
      },
      "id": "3U07Dkbnb2NI",
      "execution_count": 1,
      "outputs": [
        {
          "output_type": "stream",
          "name": "stdout",
          "text": [
            "2\n",
            "4\n",
            "7\n",
            "8\n",
            "10\n"
          ]
        }
      ]
    },
    {
      "cell_type": "code",
      "source": [
        "## Ans 2\n",
        "\n",
        "class TreeNode:\n",
        "    def __init__(self, value):\n",
        "        self.val = value\n",
        "        self.left = None\n",
        "        self.right = None\n",
        "\n",
        "def construct_bst(values):\n",
        "    root = None\n",
        "    for val in values:\n",
        "        root = insert_node(root, val)\n",
        "    return root\n",
        "\n",
        "def insert_node(root, value):\n",
        "    if not root:\n",
        "        return TreeNode(value)\n",
        "    if value < root.val:\n",
        "        root.left = insert_node(root.left, value)\n",
        "    else:\n",
        "        root.right = insert_node(root.right, value)\n",
        "    return root\n",
        "\n",
        "def find_distance(root, node1, node2):\n",
        "    lca = find_lca(root, node1, node2)\n",
        "    dist1 = find_distance_from_node(lca, node1, 0)\n",
        "    dist2 = find_distance_from_node(lca, node2, 0)\n",
        "    return dist1 + dist2\n",
        "\n",
        "def find_lca(root, node1, node2):\n",
        "    if not root or root.val == node1 or root.val == node2:\n",
        "        return root\n",
        "    if node1 < root.val and node2 < root.val:\n",
        "        return find_lca(root.left, node1, node2)\n",
        "    if node1 > root.val and node2 > root.val:\n",
        "        return find_lca(root.right, node1, node2)\n",
        "    return root\n",
        "\n",
        "def find_distance_from_node(root, node, distance):\n",
        "    if not root:\n",
        "        return 0\n",
        "    if root.val == node:\n",
        "        return distance\n",
        "    if node < root.val:\n",
        "        return find_distance_from_node(root.left, node, distance + 1)\n",
        "    return find_distance_from_node(root.right, node, distance + 1)\n",
        "\n",
        "# Given input\n",
        "values = [8, 3, 1, 6, 4, 7, 10, 14, 13]\n",
        "node1 = 6\n",
        "node2 = 14\n",
        "\n",
        "# Construct the BST\n",
        "root = construct_bst(values)\n",
        "\n",
        "# Find the distance between the two nodes\n",
        "distance = find_distance(root, node1, node2)\n",
        "\n",
        "# Print the result\n",
        "print(\"Distance between node\", node1, \"and node\", node2, \"is\", distance)\n"
      ],
      "metadata": {
        "colab": {
          "base_uri": "https://localhost:8080/"
        },
        "id": "uPY74BK6cKxy",
        "outputId": "42aa33b0-ae9d-4b21-c57d-67b1d6ee8aba"
      },
      "id": "uPY74BK6cKxy",
      "execution_count": 3,
      "outputs": [
        {
          "output_type": "stream",
          "name": "stdout",
          "text": [
            "Distance between node 6 and node 14 is 4\n"
          ]
        }
      ]
    },
    {
      "cell_type": "code",
      "source": [
        "## Ans4\n",
        "\n",
        "class TreeNode:\n",
        "    def __init__(self, value):\n",
        "        self.val = value\n",
        "        self.left = None\n",
        "        self.right = None\n",
        "        self.next = None\n",
        "\n",
        "def connect_nodes_at_same_level(root):\n",
        "    if not root:\n",
        "        return root\n",
        "\n",
        "    # Perform level-order traversal\n",
        "    queue = [root]\n",
        "    while queue:\n",
        "        size = len(queue)\n",
        "        prev = None\n",
        "        for _ in range(size):\n",
        "            node = queue.pop(0)\n",
        "\n",
        "            # Set the \"next\" pointer\n",
        "            if prev:\n",
        "                prev.next = node\n",
        "\n",
        "            prev = node\n",
        "\n",
        "            # Enqueue the children of the current node\n",
        "            if node.left:\n",
        "                queue.append(node.left)\n",
        "            if node.right:\n",
        "                queue.append(node.right)\n",
        "\n",
        "        # Set the \"next\" pointer of the last node in the level\n",
        "        prev.next = None\n",
        "\n",
        "    return root\n",
        "\n",
        "# Create the binary tree\n",
        "root = TreeNode(1)\n",
        "root.left = TreeNode(2)\n",
        "root.right = TreeNode(3)\n",
        "root.left.left = TreeNode(4)\n",
        "root.left.right = TreeNode(5)\n",
        "root.right.left = TreeNode(6)\n",
        "root.right.right = TreeNode(7)\n",
        "\n",
        "# Connect nodes at the same level\n",
        "connect_nodes_at_same_level(root)\n",
        "\n",
        "# Print the connections\n",
        "current = root\n",
        "while current:\n",
        "    level_start = current\n",
        "    while level_start:\n",
        "        print(level_start.val, end=\" → \")\n",
        "        level_start = level_start.next\n",
        "    print(\"-1\")\n",
        "    current = current.left\n",
        "\n",
        "# Output:\n",
        "# 1 → -1\n",
        "# 2 → 3 → -1\n",
        "# 4 → 5 → 6 → 7 → -1\n"
      ],
      "metadata": {
        "colab": {
          "base_uri": "https://localhost:8080/"
        },
        "id": "RS29puDwdNJT",
        "outputId": "c05a87ac-a319-4034-b47d-6b6d305666c8"
      },
      "id": "RS29puDwdNJT",
      "execution_count": 7,
      "outputs": [
        {
          "output_type": "stream",
          "name": "stdout",
          "text": [
            "1 → -1\n",
            "2 → 3 → -1\n",
            "4 → 5 → 6 → 7 → -1\n"
          ]
        }
      ]
    },
    {
      "cell_type": "code",
      "source": [],
      "metadata": {
        "id": "PPGW1IWEdfea"
      },
      "id": "PPGW1IWEdfea",
      "execution_count": null,
      "outputs": []
    }
  ],
  "metadata": {
    "kernelspec": {
      "display_name": "Python 3 (ipykernel)",
      "language": "python",
      "name": "python3"
    },
    "language_info": {
      "codemirror_mode": {
        "name": "ipython",
        "version": 3
      },
      "file_extension": ".py",
      "mimetype": "text/x-python",
      "name": "python",
      "nbconvert_exporter": "python",
      "pygments_lexer": "ipython3",
      "version": "3.9.13"
    },
    "colab": {
      "provenance": []
    }
  },
  "nbformat": 4,
  "nbformat_minor": 5
}